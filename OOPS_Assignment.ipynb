{
  "nbformat": 4,
  "nbformat_minor": 0,
  "metadata": {
    "colab": {
      "provenance": []
    },
    "kernelspec": {
      "name": "python3",
      "display_name": "Python 3"
    },
    "language_info": {
      "name": "python"
    }
  },
  "cells": [
    {
      "cell_type": "code",
      "execution_count": 1,
      "metadata": {
        "id": "rmS2y9DTG4xQ"
      },
      "outputs": [],
      "source": [
        "#THEORY QUESTIONS"
      ]
    },
    {
      "cell_type": "code",
      "source": [
        "#Q-1 What is Object-Oriented Programming (OOP)?\n",
        "#A-1 Object-Oriented Programming is a programming paradigm based on the concept of \"objects\" which contain data and methods."
      ],
      "metadata": {
        "id": "XhxtG29JJ4-A"
      },
      "execution_count": 2,
      "outputs": []
    },
    {
      "cell_type": "code",
      "source": [
        "#Q-2 What is a class in OOP?\n",
        "#A-2 Class is basically a blueprint for creating objects that helps in defining attributes and methods."
      ],
      "metadata": {
        "id": "8afatgMcLQNY"
      },
      "execution_count": 3,
      "outputs": []
    },
    {
      "cell_type": "code",
      "source": [
        "#Q-3 What is an object in OOP?\n",
        "#A-3 Object is an instance of a class containing actual values for the class attributes."
      ],
      "metadata": {
        "id": "pdhnVRCnLrxI"
      },
      "execution_count": 4,
      "outputs": []
    },
    {
      "cell_type": "code",
      "source": [
        "#Q-4 What is the difference between abstraction and encapsulation?\n",
        "#A-4 Abstraction hides complexity by showing only essential features, whereas Encapsulation hides internal state by bundling data and methods."
      ],
      "metadata": {
        "id": "RJbvdk6kMhWq"
      },
      "execution_count": 5,
      "outputs": []
    },
    {
      "cell_type": "code",
      "source": [
        "#Q-5 What are dunder methods in Python?\n",
        "#A-5 Dunder are the special methods/magic methods defined by built-in classes in python with double underscores like (__init__ , __str__) which we used to customize  class behaviour."
      ],
      "metadata": {
        "id": "6-FRY48cNizA"
      },
      "execution_count": 6,
      "outputs": []
    },
    {
      "cell_type": "code",
      "source": [
        "#Q-6 Explain the concept of inheritance in OOP.\n",
        "#A-6 Inheritance is a mechanism where a class(child) inherits attributes and methods from another class that is parent class."
      ],
      "metadata": {
        "id": "zwPI5jlgOwIT"
      },
      "execution_count": 7,
      "outputs": []
    },
    {
      "cell_type": "code",
      "source": [
        "#Q-7 What is polymorphism in OOP?\n",
        "#A-7 The ability of different classes to be treated as instances of the same class through a common interface is known as polymorphism."
      ],
      "metadata": {
        "id": "xM8r9ks7PzRg"
      },
      "execution_count": 8,
      "outputs": []
    },
    {
      "cell_type": "code",
      "source": [
        "#Q-8  How is encapsulation achieved in Python?\n",
        "#A-8 Encapsulation can be achieved in python by using private(_var, __var) attributes and providing getter/setter methods."
      ],
      "metadata": {
        "id": "48FmWmWkQSf6"
      },
      "execution_count": 9,
      "outputs": []
    },
    {
      "cell_type": "code",
      "source": [
        "#Q-9 What is a constructor in Python?\n",
        "#A-9 The __init__ method that initializes a new object's attributes is known as constructor in python."
      ],
      "metadata": {
        "id": "OlUMqFmqQ327"
      },
      "execution_count": 10,
      "outputs": []
    },
    {
      "cell_type": "code",
      "source": [
        "#Q-10 What are class and static methods in Python?\n",
        "#A-10 Class methods use @classmethod and take cls as the first argument, on the other hand\n",
        "# Static methods use @staticmethod and don't take self or cls."
      ],
      "metadata": {
        "id": "HRVGRlpnRVrz"
      },
      "execution_count": 11,
      "outputs": []
    },
    {
      "cell_type": "code",
      "source": [
        "#Q-11 What is method overloading in Python?\n",
        "#A-11 Python doesn't support true method overloading ; it can be mimicked using default arguments."
      ],
      "metadata": {
        "id": "sCU6DuVZSCHt"
      },
      "execution_count": 12,
      "outputs": []
    },
    {
      "cell_type": "code",
      "source": [
        "#Q-12 What is method overriding in OOP?\n",
        "#A-12 The process of redefining a method in a child class that already exists in the parent class is known as method overriding in OOP."
      ],
      "metadata": {
        "id": "5DKFqqGGSlvW"
      },
      "execution_count": 13,
      "outputs": []
    },
    {
      "cell_type": "code",
      "source": [
        "#Q-13 What is a property decorator in Python?\n",
        "#A-13 This decorator @property allows a method to be accessed like an attribute."
      ],
      "metadata": {
        "id": "z5fz-DE7TFMy"
      },
      "execution_count": 14,
      "outputs": []
    },
    {
      "cell_type": "code",
      "source": [
        "#Q-14 Why is polymorphism important in OOP?\n",
        "#A-14 Polymorphism is important because it promotes flexibility and reusability by allowing one interface to serve different types."
      ],
      "metadata": {
        "id": "7Efs3BW-VGLz"
      },
      "execution_count": 15,
      "outputs": []
    },
    {
      "cell_type": "code",
      "source": [
        "#Q-15 What is an abstract class in Python?\n",
        "#A-15 A class that cannot be instantiated and may have abstract methods defined using the abc module."
      ],
      "metadata": {
        "id": "qaZW3pg1VtH6"
      },
      "execution_count": 16,
      "outputs": []
    },
    {
      "cell_type": "code",
      "source": [
        "#Q-16 What are the advantages of OOP?\n",
        "#A-16 The main advantages of OOP are its reusability, scalability, modularity and easier maintenance."
      ],
      "metadata": {
        "id": "lfjeP1VSWbLL"
      },
      "execution_count": 17,
      "outputs": []
    },
    {
      "cell_type": "code",
      "source": [
        "#Q-17 What is the difference between a class variable and an instance variable?\n",
        "#A-17 A class variable can be shared across all instances but the instance variable are unique to each instance."
      ],
      "metadata": {
        "id": "emn0PyUjW-cA"
      },
      "execution_count": 18,
      "outputs": []
    },
    {
      "cell_type": "code",
      "source": [
        "#Q-18 What is multiple inheritance in Python?\n",
        "#A-18 Multiple inheritence means that one child class may inherit the properties of multiple parent class."
      ],
      "metadata": {
        "id": "SN0_f_NVXgy-"
      },
      "execution_count": 19,
      "outputs": []
    },
    {
      "cell_type": "code",
      "source": [
        "#Q-19 Explain the purpose of \"__str__' and '__repr__\" methods in Python.\n",
        "#A-19 \"__str__\" is for readable string output, \"__repr__\" is for unambiguous object representation."
      ],
      "metadata": {
        "id": "ocduYQAoYFFF"
      },
      "execution_count": 20,
      "outputs": []
    },
    {
      "cell_type": "code",
      "source": [
        "#Q-20 What is the significance of the ‘super()’ function in Python?\n",
        "#A-20 This function in python is used to call a method from a parent(or superclass) in a child class. It is especially useful when you want to extend or customize\n",
        "#the behaviour of inherited methods without completely overriding them."
      ],
      "metadata": {
        "id": "uT51IL5dY0IS"
      },
      "execution_count": 21,
      "outputs": []
    },
    {
      "cell_type": "code",
      "source": [
        "#Q-21 What is the significance of the __del__ method in Python?\n",
        "#A-21 This method is called when an object is about to be destroyed and also used for cleanup actions."
      ],
      "metadata": {
        "id": "9-lkgDsma6pj"
      },
      "execution_count": 22,
      "outputs": []
    },
    {
      "cell_type": "code",
      "source": [
        "#Q-22 What is the difference between @staticmethod and @classmethod in Python?\n",
        "#A-22 @staticmethod:- It has no default first parameter and cannot access class or instance\n",
        "#                     It is used when the method doesn't need   to access class or instance\n",
        "#     @classmethod:- It takes cls as the first parameter and can access and modify class state\n",
        "#                    It is used when you need to access or modify class variables."
      ],
      "metadata": {
        "id": "YUa2oJfbbniZ"
      },
      "execution_count": 23,
      "outputs": []
    },
    {
      "cell_type": "code",
      "source": [
        "#Q-23 How does polymorphism work in Python with inheritance?\n",
        "#A-23 Polymorphism with inheritance in python allows objects of different classes to be treated as objects of a common supercclass.\n",
        "#This is typically achieved through method overriding."
      ],
      "metadata": {
        "id": "Pt48v3lodvR3"
      },
      "execution_count": 24,
      "outputs": []
    },
    {
      "cell_type": "code",
      "source": [
        "#Q-24 What is method chaining in Python OOP?\n",
        "#A-24 Method chaining in python OOP is a technique where multiple methods are called on the same object in a single line, one after another.\n",
        "#Each method returns self, so that the next method can be called on the same object."
      ],
      "metadata": {
        "id": "bqpZX3hBepL_"
      },
      "execution_count": 25,
      "outputs": []
    },
    {
      "cell_type": "code",
      "source": [
        "#Q-25 What is the purpose of the __call__ method in Python?\n",
        "#A-25 It makes an instance callable, means that you can use object() syntax, and python will internally execute object.__call__()."
      ],
      "metadata": {
        "id": "0SeWYTqnfhUF"
      },
      "execution_count": 26,
      "outputs": []
    },
    {
      "cell_type": "code",
      "source": [
        "#PRACTICAL QUESTIONS"
      ],
      "metadata": {
        "id": "lyEyMwirgCRa"
      },
      "execution_count": 27,
      "outputs": []
    },
    {
      "cell_type": "code",
      "source": [
        "#A-1\n",
        "\n",
        "class Animal:\n",
        "    def speak(self):\n",
        "        print(\"The animal makes a sound\")\n",
        "\n",
        "class Dog(Animal):\n",
        "    def speak(self):\n",
        "        print(\"Bark!\")"
      ],
      "metadata": {
        "id": "j6TbibxwgITQ"
      },
      "execution_count": 28,
      "outputs": []
    },
    {
      "cell_type": "code",
      "source": [
        "Anm = Animal()\n",
        "Anm.speak()"
      ],
      "metadata": {
        "colab": {
          "base_uri": "https://localhost:8080/"
        },
        "id": "zu4ikdxCilkU",
        "outputId": "ef852540-9d35-42e8-e68c-29c956788da7"
      },
      "execution_count": 29,
      "outputs": [
        {
          "output_type": "stream",
          "name": "stdout",
          "text": [
            "The animal makes a sound\n"
          ]
        }
      ]
    },
    {
      "cell_type": "code",
      "source": [
        "dog = Dog()\n",
        "dog.speak()"
      ],
      "metadata": {
        "colab": {
          "base_uri": "https://localhost:8080/"
        },
        "id": "saQdxiftisqv",
        "outputId": "cbeccbb5-cef8-424b-bc48-23c305242995"
      },
      "execution_count": 30,
      "outputs": [
        {
          "output_type": "stream",
          "name": "stdout",
          "text": [
            "Bark!\n"
          ]
        }
      ]
    },
    {
      "cell_type": "code",
      "source": [
        "#A-2\n",
        "\n",
        "from abc import ABC, abstractmethod\n",
        "import math\n",
        "\n",
        "class Shape(ABC):\n",
        "    def area(self):\n",
        "        pass\n",
        "\n",
        "class Circle(Shape):\n",
        "    def __init__(self, radius):\n",
        "        self.radius = radius\n",
        "\n",
        "    def area(self):\n",
        "        return math.pi * self.radius ** 2\n",
        "\n",
        "class Rectangle(Shape):\n",
        "    def __init__(self, height, width):\n",
        "        self.height = height\n",
        "        self.width = width\n",
        "\n",
        "    def area(self):\n",
        "        return self.height * self.width"
      ],
      "metadata": {
        "id": "FQdyna_WmqSV"
      },
      "execution_count": 35,
      "outputs": []
    },
    {
      "cell_type": "code",
      "source": [
        "circ = Circle(6)\n",
        "circ.area()"
      ],
      "metadata": {
        "colab": {
          "base_uri": "https://localhost:8080/"
        },
        "id": "PvukvAfRnEk6",
        "outputId": "f41ad6c5-d79f-48cd-c699-32146f0ec59f"
      },
      "execution_count": 36,
      "outputs": [
        {
          "output_type": "execute_result",
          "data": {
            "text/plain": [
              "113.09733552923255"
            ]
          },
          "metadata": {},
          "execution_count": 36
        }
      ]
    },
    {
      "cell_type": "code",
      "source": [
        "rect = Rectangle(5, 6)\n",
        "rect.area()"
      ],
      "metadata": {
        "colab": {
          "base_uri": "https://localhost:8080/"
        },
        "id": "PR6TbghTnR1c",
        "outputId": "f6f3bbf0-e07e-4ec0-9812-6f8fbba47e0d"
      },
      "execution_count": 37,
      "outputs": [
        {
          "output_type": "execute_result",
          "data": {
            "text/plain": [
              "30"
            ]
          },
          "metadata": {},
          "execution_count": 37
        }
      ]
    },
    {
      "cell_type": "code",
      "source": [
        "#A-3\n",
        "\n",
        "class Vehicle:\n",
        "    def __init__(self, vehicle_type):\n",
        "        self.vehicle_type = vehicle_type\n",
        "\n",
        "    def display_style(self):\n",
        "        print(\"Vehicle type:\", self.vehicle_type)\n",
        "\n",
        "class Car(Vehicle):\n",
        "    def __init__(self, vehicle_type, brand):\n",
        "        super().__init__(vehicle_type)\n",
        "        self.brand = brand\n",
        "\n",
        "    def display_brand(self):\n",
        "        print(\"Car brand:\", self.brand)\n",
        "\n",
        "class ElectricCar(Car):\n",
        "    def __init__(self, vehicle_type, brand, battery_capacity):\n",
        "        super().__init__(vehicle_type, brand)\n",
        "        self.battery_capacity = battery_capacity\n",
        "\n",
        "    def display_battery(self):\n",
        "        print(\"Battery capacity:\", self.battery_capacity, \"kWh\")"
      ],
      "metadata": {
        "id": "35kxCLYgncoW"
      },
      "execution_count": 38,
      "outputs": []
    },
    {
      "cell_type": "code",
      "source": [
        "eCar = ElectricCar(\"four wheeler\", \"Tesla\", 75)\n",
        "eCar.display_style()"
      ],
      "metadata": {
        "colab": {
          "base_uri": "https://localhost:8080/"
        },
        "id": "_FozHKuuv5kF",
        "outputId": "2e4e9a01-0db0-4fdc-ca99-1236319e1deb"
      },
      "execution_count": 39,
      "outputs": [
        {
          "output_type": "stream",
          "name": "stdout",
          "text": [
            "Vehicle type: four wheeler\n"
          ]
        }
      ]
    },
    {
      "cell_type": "code",
      "source": [
        "eCar.display_brand()"
      ],
      "metadata": {
        "colab": {
          "base_uri": "https://localhost:8080/"
        },
        "id": "Jbz_PMYYwaMJ",
        "outputId": "ed8cc220-6ccd-4f15-9d21-b68ab3200cf1"
      },
      "execution_count": 40,
      "outputs": [
        {
          "output_type": "stream",
          "name": "stdout",
          "text": [
            "Car brand: Tesla\n"
          ]
        }
      ]
    },
    {
      "cell_type": "code",
      "source": [
        "eCar.display_battery()"
      ],
      "metadata": {
        "colab": {
          "base_uri": "https://localhost:8080/"
        },
        "id": "ez9BHqKdwgCW",
        "outputId": "0d2a3397-b592-4cb9-938e-49082358d381"
      },
      "execution_count": 41,
      "outputs": [
        {
          "output_type": "stream",
          "name": "stdout",
          "text": [
            "Battery capacity: 75 kWh\n"
          ]
        }
      ]
    },
    {
      "cell_type": "code",
      "source": [
        "#A-4\n",
        "\n",
        "class Bird:\n",
        "    def fly(self):\n",
        "        print(\"Bird is flying\")\n",
        "\n",
        "class Sparrow(Bird):\n",
        "    def fly(self):\n",
        "        print(\"Sparrow is flying high\")\n",
        "\n",
        "class Penguine(Bird):\n",
        "    def fly(self):\n",
        "        print(\"Penguine is swimming\")\n",
        "\n",
        "def bird_flying_ability(bird):\n",
        "    bird.fly()"
      ],
      "metadata": {
        "id": "0oI2RpGCwk_i"
      },
      "execution_count": 42,
      "outputs": []
    },
    {
      "cell_type": "code",
      "source": [
        "sparrow = Sparrow()\n",
        "penguin = Penguine()"
      ],
      "metadata": {
        "id": "BxGCHPUw1FoZ"
      },
      "execution_count": 43,
      "outputs": []
    },
    {
      "cell_type": "code",
      "source": [
        "bird_flying_ability(sparrow)"
      ],
      "metadata": {
        "colab": {
          "base_uri": "https://localhost:8080/"
        },
        "id": "sVtcdXo015Z-",
        "outputId": "eb06c77e-8bb1-46dc-c9fa-a6b3395db44c"
      },
      "execution_count": 44,
      "outputs": [
        {
          "output_type": "stream",
          "name": "stdout",
          "text": [
            "Sparrow is flying high\n"
          ]
        }
      ]
    },
    {
      "cell_type": "code",
      "source": [
        "bird_flying_ability(penguin)"
      ],
      "metadata": {
        "colab": {
          "base_uri": "https://localhost:8080/"
        },
        "id": "HARDMmzI2KXF",
        "outputId": "105a1653-8a88-4100-f1ab-e9a1d2b1d683"
      },
      "execution_count": 45,
      "outputs": [
        {
          "output_type": "stream",
          "name": "stdout",
          "text": [
            "Penguine is swimming\n"
          ]
        }
      ]
    },
    {
      "cell_type": "code",
      "source": [
        "#A-5\n",
        "\n",
        "class BankAccount:\n",
        "    def __init__(self, initial_balance=0):\n",
        "        self.__balance = initial_balance\n",
        "\n",
        "    def deposit(self, amount):\n",
        "        if amount > 0:\n",
        "            self.__balance +=amount\n",
        "            print(f\"Deposited: ${amount}\")\n",
        "        else:\n",
        "            print(\"Deposited amount should be positive\")\n",
        "\n",
        "    def withdraw(self, amount):\n",
        "        if 0 < amount <= self.__balance:\n",
        "            self.__balance -= amount\n",
        "            print(f\"Withdrew: ${amount}\")\n",
        "        else:\n",
        "            print(\"Insufficient funds or invalid withdrawal amount\")\n",
        "\n",
        "    def check_balance(self):\n",
        "        print(f\"Current balance: ${self.__balance}\")"
      ],
      "metadata": {
        "id": "omjz0lMo5225"
      },
      "execution_count": 46,
      "outputs": []
    },
    {
      "cell_type": "code",
      "source": [
        "acc = BankAccount(100)\n",
        "acc.check_balance()"
      ],
      "metadata": {
        "colab": {
          "base_uri": "https://localhost:8080/"
        },
        "id": "s7rYRfHF54gJ",
        "outputId": "bb55875a-80cc-4b9e-c09b-903f9500f37c"
      },
      "execution_count": 47,
      "outputs": [
        {
          "output_type": "stream",
          "name": "stdout",
          "text": [
            "Current balance: $100\n"
          ]
        }
      ]
    },
    {
      "cell_type": "code",
      "source": [
        "acc.deposit(80)"
      ],
      "metadata": {
        "colab": {
          "base_uri": "https://localhost:8080/"
        },
        "id": "IuayM3pt6Izs",
        "outputId": "f64db2c1-ab6e-43db-cabd-d3de71dc3235"
      },
      "execution_count": 48,
      "outputs": [
        {
          "output_type": "stream",
          "name": "stdout",
          "text": [
            "Deposited: $80\n"
          ]
        }
      ]
    },
    {
      "cell_type": "code",
      "source": [
        "acc.withdraw(20)"
      ],
      "metadata": {
        "colab": {
          "base_uri": "https://localhost:8080/"
        },
        "id": "oqoir9oa6OLP",
        "outputId": "38e84521-942c-49b0-cf9c-b1c2f19a6e0b"
      },
      "execution_count": 49,
      "outputs": [
        {
          "output_type": "stream",
          "name": "stdout",
          "text": [
            "Withdrew: $20\n"
          ]
        }
      ]
    },
    {
      "cell_type": "code",
      "source": [
        "acc.check_balance()"
      ],
      "metadata": {
        "colab": {
          "base_uri": "https://localhost:8080/"
        },
        "id": "5i1A2YHM6cFN",
        "outputId": "4991a7b4-2154-4aaf-9854-5dfaea791d67"
      },
      "execution_count": 51,
      "outputs": [
        {
          "output_type": "stream",
          "name": "stdout",
          "text": [
            "Current balance: $160\n"
          ]
        }
      ]
    },
    {
      "cell_type": "code",
      "source": [
        "#A-6\n",
        "\n",
        "class Instrument:\n",
        "    def play(self):\n",
        "        print(\"Playing an instrument is an art\")\n",
        "\n",
        "class Guitar(Instrument):\n",
        "    def play(self):\n",
        "        print(\"Playing the guitar\")\n",
        "\n",
        "class Piano(Instrument):\n",
        "    def play(self):\n",
        "        print(\"Playing the piano\")\n",
        "\n",
        "def perform(instrument):\n",
        "    instrument.play()"
      ],
      "metadata": {
        "id": "hoqHz1tL6kMD"
      },
      "execution_count": 53,
      "outputs": []
    },
    {
      "cell_type": "code",
      "source": [
        "guit = Guitar()\n",
        "guit.play()"
      ],
      "metadata": {
        "colab": {
          "base_uri": "https://localhost:8080/"
        },
        "id": "F8UaJBVBF2CK",
        "outputId": "334ca260-5a2f-49d1-9f80-07d4055bba9a"
      },
      "execution_count": 54,
      "outputs": [
        {
          "output_type": "stream",
          "name": "stdout",
          "text": [
            "Playing the guitar\n"
          ]
        }
      ]
    },
    {
      "cell_type": "code",
      "source": [
        "piao = Piano()\n",
        "piao.play()"
      ],
      "metadata": {
        "colab": {
          "base_uri": "https://localhost:8080/"
        },
        "id": "ZQDMLSpCGKrH",
        "outputId": "66089ae0-5c44-4280-a016-947d1e37a184"
      },
      "execution_count": 55,
      "outputs": [
        {
          "output_type": "stream",
          "name": "stdout",
          "text": [
            "Playing the piano\n"
          ]
        }
      ]
    },
    {
      "cell_type": "code",
      "source": [
        "#A-7\n",
        "\n",
        "class MathOperations:\n",
        "    @classmethod\n",
        "    def add(cls, x, y):\n",
        "        return x + y\n",
        "\n",
        "    @staticmethod\n",
        "    def subtract(x, y):\n",
        "        return x - y"
      ],
      "metadata": {
        "id": "dYeuXjE_GTAm"
      },
      "execution_count": 56,
      "outputs": []
    },
    {
      "cell_type": "code",
      "source": [
        "sum = MathOperations.add(5, 10)\n",
        "print(sum)"
      ],
      "metadata": {
        "colab": {
          "base_uri": "https://localhost:8080/"
        },
        "id": "WE-a-MwNHv2N",
        "outputId": "62406407-530f-45f9-974c-b481208e9485"
      },
      "execution_count": 57,
      "outputs": [
        {
          "output_type": "stream",
          "name": "stdout",
          "text": [
            "15\n"
          ]
        }
      ]
    },
    {
      "cell_type": "code",
      "source": [
        "sub = MathOperations.subtract(10, 6)\n",
        "print(sub)"
      ],
      "metadata": {
        "colab": {
          "base_uri": "https://localhost:8080/"
        },
        "id": "V6wi4LoTIGa8",
        "outputId": "7c0b3f66-d080-4e06-f859-2dec32f3851a"
      },
      "execution_count": 58,
      "outputs": [
        {
          "output_type": "stream",
          "name": "stdout",
          "text": [
            "4\n"
          ]
        }
      ]
    },
    {
      "cell_type": "code",
      "source": [
        "#A-8\n",
        "\n",
        "class Person:\n",
        "    count = 0\n",
        "    def __init__(self, name):\n",
        "        self.name = name\n",
        "        Person.count +=1\n",
        "\n",
        "    @classmethod\n",
        "    def get_person_count(cls):\n",
        "        return cls.count"
      ],
      "metadata": {
        "id": "KY1x9_LdIOpL"
      },
      "execution_count": 59,
      "outputs": []
    },
    {
      "cell_type": "code",
      "source": [
        "per1 = Person(\"John\")\n",
        "per2 = Person(\"Jane\")"
      ],
      "metadata": {
        "id": "eJKWcLlfJJgC"
      },
      "execution_count": 60,
      "outputs": []
    },
    {
      "cell_type": "code",
      "source": [
        "Person.get_person_count()"
      ],
      "metadata": {
        "colab": {
          "base_uri": "https://localhost:8080/"
        },
        "id": "at3Irx2ZJT86",
        "outputId": "3a40847b-f44f-4162-e41e-a6c0c2ed957a"
      },
      "execution_count": 61,
      "outputs": [
        {
          "output_type": "execute_result",
          "data": {
            "text/plain": [
              "2"
            ]
          },
          "metadata": {},
          "execution_count": 61
        }
      ]
    },
    {
      "cell_type": "code",
      "source": [
        "#A-9\n",
        "\n",
        "class Fraction:\n",
        "    def __init__(self, numerator, denominator):\n",
        "        self.numerator = numerator\n",
        "        self.denominator = denominator\n",
        "\n",
        "    def __str__(self):\n",
        "        return f\"{self.numerator}/{self.denominator}\""
      ],
      "metadata": {
        "id": "4JbaqWOPKMDj"
      },
      "execution_count": 73,
      "outputs": []
    },
    {
      "cell_type": "code",
      "source": [
        "f1 = Fraction(3, 5)\n",
        "print(f1)"
      ],
      "metadata": {
        "colab": {
          "base_uri": "https://localhost:8080/"
        },
        "id": "6ir9DtzeK4_P",
        "outputId": "634b32e8-c8f3-4ef6-e4e5-73e45e57d50f"
      },
      "execution_count": 74,
      "outputs": [
        {
          "output_type": "stream",
          "name": "stdout",
          "text": [
            "3/5\n"
          ]
        }
      ]
    },
    {
      "cell_type": "code",
      "source": [
        "f2 = Fraction(2, 4)\n",
        "print(f2)"
      ],
      "metadata": {
        "colab": {
          "base_uri": "https://localhost:8080/"
        },
        "id": "5XBe73yzMJLZ",
        "outputId": "668d5b46-553d-4ba8-835f-3e8a8ea9296e"
      },
      "execution_count": 76,
      "outputs": [
        {
          "output_type": "stream",
          "name": "stdout",
          "text": [
            "2/4\n"
          ]
        }
      ]
    },
    {
      "cell_type": "code",
      "source": [
        "#A-10\n",
        "\n",
        "class Vector:\n",
        "    def __init__(self, a, b):\n",
        "        self.a = a\n",
        "        self.b = b\n",
        "\n",
        "    def __add__(self, other):\n",
        "        return Vector(self.a + other.a, self.b + other.b)\n",
        "\n",
        "    def __str__(self):\n",
        "        return f\"Vector({self.a}, {self.b})\""
      ],
      "metadata": {
        "id": "0NcaKPFKMbt9"
      },
      "execution_count": 77,
      "outputs": []
    },
    {
      "cell_type": "code",
      "source": [
        "vec1 = Vector(1, 2)\n",
        "vec2 = Vector(3, 4)\n",
        "vec3 = vec1 + vec2\n",
        "print(vec3)"
      ],
      "metadata": {
        "colab": {
          "base_uri": "https://localhost:8080/"
        },
        "id": "zbOFjqT9N8A1",
        "outputId": "c1717475-b381-4122-b83c-6121ad56a2eb"
      },
      "execution_count": 80,
      "outputs": [
        {
          "output_type": "stream",
          "name": "stdout",
          "text": [
            "Vector(4, 6)\n"
          ]
        }
      ]
    },
    {
      "cell_type": "code",
      "source": [
        "#A-11\n",
        "\n",
        "class Person:\n",
        "    def __init__(self, name, age):\n",
        "        self.name = name\n",
        "        self.age = age\n",
        "\n",
        "    def greet(self):\n",
        "        print(f\"Hello, my name is {self.name} and I am {self.age} years old\")"
      ],
      "metadata": {
        "id": "2AOw2tv2OIzw"
      },
      "execution_count": 81,
      "outputs": []
    },
    {
      "cell_type": "code",
      "source": [
        "p1 = Person(\"Ananya\", 25)\n",
        "p1.greet()"
      ],
      "metadata": {
        "colab": {
          "base_uri": "https://localhost:8080/"
        },
        "id": "b4AKzY0IPi7s",
        "outputId": "2fdbcba2-c839-4ac2-dd70-a201b553fb80"
      },
      "execution_count": 82,
      "outputs": [
        {
          "output_type": "stream",
          "name": "stdout",
          "text": [
            "Hello, my name is Ananya and I am 25 years old\n"
          ]
        }
      ]
    },
    {
      "cell_type": "code",
      "source": [
        "#A-12\n",
        "\n",
        "class Student:\n",
        "    def __init__(self, name , grades):\n",
        "        self.name = name\n",
        "        self.grades = grades\n",
        "\n",
        "    def average_grades(self):\n",
        "        if self.grades:\n",
        "            return sum(self.grades) / len(self.grades)\n",
        "        else:\n",
        "            return 0.0"
      ],
      "metadata": {
        "id": "jvZf0RCUP23M"
      },
      "execution_count": 96,
      "outputs": []
    },
    {
      "cell_type": "code",
      "source": [
        "std1 = Student(\"Ananya\", [85, 90, 78])\n",
        "print(f\"{std1.name}'s average grade is {std1.average_grades():.2f}\")"
      ],
      "metadata": {
        "colab": {
          "base_uri": "https://localhost:8080/"
        },
        "id": "bbrZzNwrVA5w",
        "outputId": "88b044de-4139-4bba-827b-34109e7656aa"
      },
      "execution_count": 97,
      "outputs": [
        {
          "output_type": "stream",
          "name": "stdout",
          "text": [
            "Ananya's average grade is 84.33\n"
          ]
        }
      ]
    },
    {
      "cell_type": "code",
      "source": [
        "#A-13\n",
        "\n",
        "class Rectangle:\n",
        "    def __init__(self):\n",
        "        self.length = 0\n",
        "        self.width = 0\n",
        "\n",
        "    def set_dimensions(self, length, width):\n",
        "        self.length = length\n",
        "        self.width = width\n",
        "\n",
        "    def area(self):\n",
        "        return self.length * self.width"
      ],
      "metadata": {
        "id": "gDmVM32tWfq8"
      },
      "execution_count": 99,
      "outputs": []
    },
    {
      "cell_type": "code",
      "source": [
        "rct = Rectangle()\n",
        "rct.set_dimensions(3, 4)\n",
        "print(\"Area of rectangle:\", rct.area())"
      ],
      "metadata": {
        "colab": {
          "base_uri": "https://localhost:8080/"
        },
        "id": "_ZXdXZPZXIPv",
        "outputId": "f0a89d12-5b38-4ac0-fdb7-688f7fa19776"
      },
      "execution_count": 100,
      "outputs": [
        {
          "output_type": "stream",
          "name": "stdout",
          "text": [
            "Area of rectangle: 12\n"
          ]
        }
      ]
    },
    {
      "cell_type": "code",
      "source": [
        "#A-14\n",
        "\n",
        "class Employee:\n",
        "    def __init__(self, name, hours_worked, hourly_rate):\n",
        "        self.name = name\n",
        "        self.hours_worked = hours_worked\n",
        "        self.hourly_rate = hourly_rate\n",
        "\n",
        "    def calculate_salary(self):\n",
        "        return self.hours_worked * self.hourly_rate\n",
        "\n",
        "class Manager(Employee):\n",
        "    def __init__(self, name, hours_worked, hourly_rate, bonus):\n",
        "        super().__init__(name, hours_worked, hourly_rate)\n",
        "        self.bonus = bonus\n",
        "\n",
        "    def calculate_salary(self):\n",
        "        base_salary = super().calculate_salary()\n",
        "        return base_salary + self.bonus"
      ],
      "metadata": {
        "id": "5ap7p2sWXpo-"
      },
      "execution_count": 101,
      "outputs": []
    },
    {
      "cell_type": "code",
      "source": [
        "emp = Employee(\"John\", 5, 10)\n",
        "print(f\"{emp.name}'s salary is {emp.calculate_salary()}\")"
      ],
      "metadata": {
        "colab": {
          "base_uri": "https://localhost:8080/"
        },
        "id": "pPx0nYghZJ-4",
        "outputId": "66c241ac-2326-418c-fa86-1a23f30f2645"
      },
      "execution_count": 103,
      "outputs": [
        {
          "output_type": "stream",
          "name": "stdout",
          "text": [
            "John's salary is 50\n"
          ]
        }
      ]
    },
    {
      "cell_type": "code",
      "source": [
        "mngr = Manager(\"Ajay\", 10, 20, 5000)\n",
        "print(f\"{mngr.name}'s salary is {mngr.calculate_salary()}\")"
      ],
      "metadata": {
        "colab": {
          "base_uri": "https://localhost:8080/"
        },
        "id": "GWSnQAPqZkYU",
        "outputId": "d70b31b5-c71a-4113-e3da-c754b29a781b"
      },
      "execution_count": 104,
      "outputs": [
        {
          "output_type": "stream",
          "name": "stdout",
          "text": [
            "Ajay's salary is 5200\n"
          ]
        }
      ]
    },
    {
      "cell_type": "code",
      "source": [
        "#A-15\n",
        "\n",
        "class Product:\n",
        "    def __init__(self, name, price, quantity):\n",
        "        self.name = name\n",
        "        self.price = price\n",
        "        self.quantity = quantity\n",
        "\n",
        "    def total_price(self):\n",
        "        return self.price * self.quantity"
      ],
      "metadata": {
        "id": "zF3iz5JKarf9"
      },
      "execution_count": 106,
      "outputs": []
    },
    {
      "cell_type": "code",
      "source": [
        "prod1 = Product(\"Smartphone\", 12000, 3)\n",
        "print(f\"Total price of {prod1.name}: ${prod1.total_price()}\")"
      ],
      "metadata": {
        "colab": {
          "base_uri": "https://localhost:8080/"
        },
        "id": "YX90hIxaazYz",
        "outputId": "1d886ca9-d62f-4191-db6e-d2475c4b2df9"
      },
      "execution_count": 107,
      "outputs": [
        {
          "output_type": "stream",
          "name": "stdout",
          "text": [
            "Total price of Smartphone: $36000\n"
          ]
        }
      ]
    },
    {
      "cell_type": "code",
      "source": [
        "#A-16\n",
        "\n",
        "from abc import ABC, abstractmethod\n",
        "\n",
        "class Animal(ABC):\n",
        "    def sound(self):\n",
        "        pass\n",
        "\n",
        "class Cow(Animal):\n",
        "    def sound(self):\n",
        "        print(\"Cow makes moo sound\")\n",
        "\n",
        "class Sheep(Animal):\n",
        "    def sound(self):\n",
        "        print(\"Sheep makes baa sound\")"
      ],
      "metadata": {
        "id": "-dE6C1L3bJ3o"
      },
      "execution_count": 108,
      "outputs": []
    },
    {
      "cell_type": "code",
      "source": [
        "cow = Cow()\n",
        "cow.sound()"
      ],
      "metadata": {
        "colab": {
          "base_uri": "https://localhost:8080/"
        },
        "id": "xI6yvo2Bcmdf",
        "outputId": "edd3fc3c-3e2d-4425-bec5-e05fd9adf44d"
      },
      "execution_count": 109,
      "outputs": [
        {
          "output_type": "stream",
          "name": "stdout",
          "text": [
            "Cow makes moo sound\n"
          ]
        }
      ]
    },
    {
      "cell_type": "code",
      "source": [
        "sheep = Sheep()\n",
        "sheep.sound()"
      ],
      "metadata": {
        "colab": {
          "base_uri": "https://localhost:8080/"
        },
        "id": "8j4JduhocwZ0",
        "outputId": "6e72460a-494a-4ffd-9a1e-9c8baaf9a1f6"
      },
      "execution_count": 110,
      "outputs": [
        {
          "output_type": "stream",
          "name": "stdout",
          "text": [
            "Sheep makes baa sound\n"
          ]
        }
      ]
    },
    {
      "cell_type": "code",
      "source": [
        "#A-17\n",
        "\n",
        "class Book:\n",
        "    def __init__(self, title, author, year_published):\n",
        "        self.title = title\n",
        "        self.author = author\n",
        "        self.year_published = year_published\n",
        "\n",
        "    def get_book_info(self):\n",
        "        return f\"'{self.title}' by {self.author}, Published in {self.year_published}.\""
      ],
      "metadata": {
        "id": "5jy-hMbRc3gT"
      },
      "execution_count": 114,
      "outputs": []
    },
    {
      "cell_type": "code",
      "source": [
        "buk1 = Book(\"The Alchemist\", \"Paulo Coelho\", 1988)\n",
        "print(buk1.get_book_info())"
      ],
      "metadata": {
        "colab": {
          "base_uri": "https://localhost:8080/"
        },
        "id": "rLni1zbYfCuL",
        "outputId": "191120dc-f286-4c32-f94f-efd62891478b"
      },
      "execution_count": 115,
      "outputs": [
        {
          "output_type": "stream",
          "name": "stdout",
          "text": [
            "'The Alchemist' by Paulo Coelho, Published in 1988.\n"
          ]
        }
      ]
    },
    {
      "cell_type": "code",
      "source": [
        "#A-18\n",
        "\n",
        "class House:\n",
        "    def __init__(self, address, price):\n",
        "        self.address = address\n",
        "        self.price = price\n",
        "\n",
        "class Mansion(House):\n",
        "    def __init__(self, address, price, num_of_rooms):\n",
        "        super().__init__(address, price)\n",
        "        self.num_of_rooms = num_of_rooms"
      ],
      "metadata": {
        "id": "umc3EfIefNV2"
      },
      "execution_count": 120,
      "outputs": []
    },
    {
      "cell_type": "code",
      "source": [
        "mansion1 = Mansion(\"123 Main St\", 250000, 5)\n",
        "print(f\"Address: {mansion1.address}\")\n",
        "print(f\"Price: {mansion1.price}\")\n",
        "print(f\"Number of rooms: {mansion1.num_of_rooms}\")"
      ],
      "metadata": {
        "colab": {
          "base_uri": "https://localhost:8080/"
        },
        "id": "iB-bUSUzgdO6",
        "outputId": "eaa49e79-9340-4fdd-eb98-708da63c0027"
      },
      "execution_count": 121,
      "outputs": [
        {
          "output_type": "stream",
          "name": "stdout",
          "text": [
            "Address: 123 Main St\n",
            "Price: 250000\n",
            "Number of rooms: 5\n"
          ]
        }
      ]
    },
    {
      "cell_type": "code",
      "source": [],
      "metadata": {
        "id": "vFD68oWYg2sT"
      },
      "execution_count": null,
      "outputs": []
    }
  ]
}